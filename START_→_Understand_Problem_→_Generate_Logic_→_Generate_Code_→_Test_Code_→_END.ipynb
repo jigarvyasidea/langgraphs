{
  "nbformat": 4,
  "nbformat_minor": 0,
  "metadata": {
    "colab": {
      "provenance": []
    },
    "kernelspec": {
      "name": "python3",
      "display_name": "Python 3"
    },
    "language_info": {
      "name": "python"
    }
  },
  "cells": [
    {
      "cell_type": "code",
      "execution_count": 37,
      "metadata": {
        "colab": {
          "base_uri": "https://localhost:8080/"
        },
        "id": "Gi_UtUWgL105",
        "outputId": "1ffcb0fb-9981-4744-fd22-5f5f38636514"
      },
      "outputs": [
        {
          "output_type": "stream",
          "name": "stdout",
          "text": [
            "Requirement already satisfied: langgraph in /usr/local/lib/python3.11/dist-packages (0.5.3)\n",
            "Requirement already satisfied: langchain-core>=0.1 in /usr/local/lib/python3.11/dist-packages (from langgraph) (0.3.68)\n",
            "Requirement already satisfied: langgraph-checkpoint<3.0.0,>=2.1.0 in /usr/local/lib/python3.11/dist-packages (from langgraph) (2.1.0)\n",
            "Requirement already satisfied: langgraph-prebuilt<0.6.0,>=0.5.0 in /usr/local/lib/python3.11/dist-packages (from langgraph) (0.5.2)\n",
            "Requirement already satisfied: langgraph-sdk<0.2.0,>=0.1.42 in /usr/local/lib/python3.11/dist-packages (from langgraph) (0.1.73)\n",
            "Requirement already satisfied: pydantic>=2.7.4 in /usr/local/lib/python3.11/dist-packages (from langgraph) (2.11.7)\n",
            "Requirement already satisfied: xxhash>=3.5.0 in /usr/local/lib/python3.11/dist-packages (from langgraph) (3.5.0)\n",
            "Requirement already satisfied: langsmith>=0.3.45 in /usr/local/lib/python3.11/dist-packages (from langchain-core>=0.1->langgraph) (0.4.5)\n",
            "Requirement already satisfied: tenacity!=8.4.0,<10.0.0,>=8.1.0 in /usr/local/lib/python3.11/dist-packages (from langchain-core>=0.1->langgraph) (8.5.0)\n",
            "Requirement already satisfied: jsonpatch<2.0,>=1.33 in /usr/local/lib/python3.11/dist-packages (from langchain-core>=0.1->langgraph) (1.33)\n",
            "Requirement already satisfied: PyYAML>=5.3 in /usr/local/lib/python3.11/dist-packages (from langchain-core>=0.1->langgraph) (6.0.2)\n",
            "Requirement already satisfied: packaging<25,>=23.2 in /usr/local/lib/python3.11/dist-packages (from langchain-core>=0.1->langgraph) (24.2)\n",
            "Requirement already satisfied: typing-extensions>=4.7 in /usr/local/lib/python3.11/dist-packages (from langchain-core>=0.1->langgraph) (4.14.1)\n",
            "Requirement already satisfied: ormsgpack>=1.10.0 in /usr/local/lib/python3.11/dist-packages (from langgraph-checkpoint<3.0.0,>=2.1.0->langgraph) (1.10.0)\n",
            "Requirement already satisfied: httpx>=0.25.2 in /usr/local/lib/python3.11/dist-packages (from langgraph-sdk<0.2.0,>=0.1.42->langgraph) (0.28.1)\n",
            "Requirement already satisfied: orjson>=3.10.1 in /usr/local/lib/python3.11/dist-packages (from langgraph-sdk<0.2.0,>=0.1.42->langgraph) (3.10.18)\n",
            "Requirement already satisfied: annotated-types>=0.6.0 in /usr/local/lib/python3.11/dist-packages (from pydantic>=2.7.4->langgraph) (0.7.0)\n",
            "Requirement already satisfied: pydantic-core==2.33.2 in /usr/local/lib/python3.11/dist-packages (from pydantic>=2.7.4->langgraph) (2.33.2)\n",
            "Requirement already satisfied: typing-inspection>=0.4.0 in /usr/local/lib/python3.11/dist-packages (from pydantic>=2.7.4->langgraph) (0.4.1)\n",
            "Requirement already satisfied: anyio in /usr/local/lib/python3.11/dist-packages (from httpx>=0.25.2->langgraph-sdk<0.2.0,>=0.1.42->langgraph) (4.9.0)\n",
            "Requirement already satisfied: certifi in /usr/local/lib/python3.11/dist-packages (from httpx>=0.25.2->langgraph-sdk<0.2.0,>=0.1.42->langgraph) (2025.7.14)\n",
            "Requirement already satisfied: httpcore==1.* in /usr/local/lib/python3.11/dist-packages (from httpx>=0.25.2->langgraph-sdk<0.2.0,>=0.1.42->langgraph) (1.0.9)\n",
            "Requirement already satisfied: idna in /usr/local/lib/python3.11/dist-packages (from httpx>=0.25.2->langgraph-sdk<0.2.0,>=0.1.42->langgraph) (3.10)\n",
            "Requirement already satisfied: h11>=0.16 in /usr/local/lib/python3.11/dist-packages (from httpcore==1.*->httpx>=0.25.2->langgraph-sdk<0.2.0,>=0.1.42->langgraph) (0.16.0)\n",
            "Requirement already satisfied: jsonpointer>=1.9 in /usr/local/lib/python3.11/dist-packages (from jsonpatch<2.0,>=1.33->langchain-core>=0.1->langgraph) (3.0.0)\n",
            "Requirement already satisfied: requests<3,>=2 in /usr/local/lib/python3.11/dist-packages (from langsmith>=0.3.45->langchain-core>=0.1->langgraph) (2.32.3)\n",
            "Requirement already satisfied: requests-toolbelt<2.0.0,>=1.0.0 in /usr/local/lib/python3.11/dist-packages (from langsmith>=0.3.45->langchain-core>=0.1->langgraph) (1.0.0)\n",
            "Requirement already satisfied: zstandard<0.24.0,>=0.23.0 in /usr/local/lib/python3.11/dist-packages (from langsmith>=0.3.45->langchain-core>=0.1->langgraph) (0.23.0)\n",
            "Requirement already satisfied: charset-normalizer<4,>=2 in /usr/local/lib/python3.11/dist-packages (from requests<3,>=2->langsmith>=0.3.45->langchain-core>=0.1->langgraph) (3.4.2)\n",
            "Requirement already satisfied: urllib3<3,>=1.21.1 in /usr/local/lib/python3.11/dist-packages (from requests<3,>=2->langsmith>=0.3.45->langchain-core>=0.1->langgraph) (2.4.0)\n",
            "Requirement already satisfied: sniffio>=1.1 in /usr/local/lib/python3.11/dist-packages (from anyio->httpx>=0.25.2->langgraph-sdk<0.2.0,>=0.1.42->langgraph) (1.3.1)\n"
          ]
        }
      ],
      "source": [
        "# Logic Building Assistace\n",
        "\n",
        "# need llm\n",
        "!pip install langgraph"
      ]
    },
    {
      "cell_type": "code",
      "source": [
        "!pip install langchain"
      ],
      "metadata": {
        "colab": {
          "base_uri": "https://localhost:8080/"
        },
        "id": "cBPJ8ndlL845",
        "outputId": "232e1143-4ea0-45b4-d0a2-e8351d378989"
      },
      "execution_count": 38,
      "outputs": [
        {
          "output_type": "stream",
          "name": "stdout",
          "text": [
            "Requirement already satisfied: langchain in /usr/local/lib/python3.11/dist-packages (0.3.26)\n",
            "Requirement already satisfied: langchain-core<1.0.0,>=0.3.66 in /usr/local/lib/python3.11/dist-packages (from langchain) (0.3.68)\n",
            "Requirement already satisfied: langchain-text-splitters<1.0.0,>=0.3.8 in /usr/local/lib/python3.11/dist-packages (from langchain) (0.3.8)\n",
            "Requirement already satisfied: langsmith>=0.1.17 in /usr/local/lib/python3.11/dist-packages (from langchain) (0.4.5)\n",
            "Requirement already satisfied: pydantic<3.0.0,>=2.7.4 in /usr/local/lib/python3.11/dist-packages (from langchain) (2.11.7)\n",
            "Requirement already satisfied: SQLAlchemy<3,>=1.4 in /usr/local/lib/python3.11/dist-packages (from langchain) (2.0.41)\n",
            "Requirement already satisfied: requests<3,>=2 in /usr/local/lib/python3.11/dist-packages (from langchain) (2.32.3)\n",
            "Requirement already satisfied: PyYAML>=5.3 in /usr/local/lib/python3.11/dist-packages (from langchain) (6.0.2)\n",
            "Requirement already satisfied: tenacity!=8.4.0,<10.0.0,>=8.1.0 in /usr/local/lib/python3.11/dist-packages (from langchain-core<1.0.0,>=0.3.66->langchain) (8.5.0)\n",
            "Requirement already satisfied: jsonpatch<2.0,>=1.33 in /usr/local/lib/python3.11/dist-packages (from langchain-core<1.0.0,>=0.3.66->langchain) (1.33)\n",
            "Requirement already satisfied: packaging<25,>=23.2 in /usr/local/lib/python3.11/dist-packages (from langchain-core<1.0.0,>=0.3.66->langchain) (24.2)\n",
            "Requirement already satisfied: typing-extensions>=4.7 in /usr/local/lib/python3.11/dist-packages (from langchain-core<1.0.0,>=0.3.66->langchain) (4.14.1)\n",
            "Requirement already satisfied: httpx<1,>=0.23.0 in /usr/local/lib/python3.11/dist-packages (from langsmith>=0.1.17->langchain) (0.28.1)\n",
            "Requirement already satisfied: orjson<4.0.0,>=3.9.14 in /usr/local/lib/python3.11/dist-packages (from langsmith>=0.1.17->langchain) (3.10.18)\n",
            "Requirement already satisfied: requests-toolbelt<2.0.0,>=1.0.0 in /usr/local/lib/python3.11/dist-packages (from langsmith>=0.1.17->langchain) (1.0.0)\n",
            "Requirement already satisfied: zstandard<0.24.0,>=0.23.0 in /usr/local/lib/python3.11/dist-packages (from langsmith>=0.1.17->langchain) (0.23.0)\n",
            "Requirement already satisfied: annotated-types>=0.6.0 in /usr/local/lib/python3.11/dist-packages (from pydantic<3.0.0,>=2.7.4->langchain) (0.7.0)\n",
            "Requirement already satisfied: pydantic-core==2.33.2 in /usr/local/lib/python3.11/dist-packages (from pydantic<3.0.0,>=2.7.4->langchain) (2.33.2)\n",
            "Requirement already satisfied: typing-inspection>=0.4.0 in /usr/local/lib/python3.11/dist-packages (from pydantic<3.0.0,>=2.7.4->langchain) (0.4.1)\n",
            "Requirement already satisfied: charset-normalizer<4,>=2 in /usr/local/lib/python3.11/dist-packages (from requests<3,>=2->langchain) (3.4.2)\n",
            "Requirement already satisfied: idna<4,>=2.5 in /usr/local/lib/python3.11/dist-packages (from requests<3,>=2->langchain) (3.10)\n",
            "Requirement already satisfied: urllib3<3,>=1.21.1 in /usr/local/lib/python3.11/dist-packages (from requests<3,>=2->langchain) (2.4.0)\n",
            "Requirement already satisfied: certifi>=2017.4.17 in /usr/local/lib/python3.11/dist-packages (from requests<3,>=2->langchain) (2025.7.14)\n",
            "Requirement already satisfied: greenlet>=1 in /usr/local/lib/python3.11/dist-packages (from SQLAlchemy<3,>=1.4->langchain) (3.2.3)\n",
            "Requirement already satisfied: anyio in /usr/local/lib/python3.11/dist-packages (from httpx<1,>=0.23.0->langsmith>=0.1.17->langchain) (4.9.0)\n",
            "Requirement already satisfied: httpcore==1.* in /usr/local/lib/python3.11/dist-packages (from httpx<1,>=0.23.0->langsmith>=0.1.17->langchain) (1.0.9)\n",
            "Requirement already satisfied: h11>=0.16 in /usr/local/lib/python3.11/dist-packages (from httpcore==1.*->httpx<1,>=0.23.0->langsmith>=0.1.17->langchain) (0.16.0)\n",
            "Requirement already satisfied: jsonpointer>=1.9 in /usr/local/lib/python3.11/dist-packages (from jsonpatch<2.0,>=1.33->langchain-core<1.0.0,>=0.3.66->langchain) (3.0.0)\n",
            "Requirement already satisfied: sniffio>=1.1 in /usr/local/lib/python3.11/dist-packages (from anyio->httpx<1,>=0.23.0->langsmith>=0.1.17->langchain) (1.3.1)\n"
          ]
        }
      ]
    },
    {
      "cell_type": "code",
      "source": [
        "# create state\n",
        "\n",
        "#START → Understand Problem → Generate Logic → Generate Code → Test Code → END\n",
        "\n",
        "\n",
        "from typing import TypedDict\n",
        "\n",
        "class CodeGenState(TypedDict):\n",
        "  promblem:str\n",
        "  logic:str\n",
        "  code:str\n",
        "  test:str\n",
        "\n"
      ],
      "metadata": {
        "id": "vISGPb6aMPXz"
      },
      "execution_count": 39,
      "outputs": []
    },
    {
      "cell_type": "code",
      "source": [
        "# we need llm so\n",
        "!pip install langchain-groq"
      ],
      "metadata": {
        "colab": {
          "base_uri": "https://localhost:8080/"
        },
        "id": "eQDPh_wYMpt8",
        "outputId": "4d40aef3-4ff5-422b-fb4b-204f9de8bef2"
      },
      "execution_count": 40,
      "outputs": [
        {
          "output_type": "stream",
          "name": "stdout",
          "text": [
            "Requirement already satisfied: langchain-groq in /usr/local/lib/python3.11/dist-packages (0.3.6)\n",
            "Requirement already satisfied: langchain-core<1.0.0,>=0.3.68 in /usr/local/lib/python3.11/dist-packages (from langchain-groq) (0.3.68)\n",
            "Requirement already satisfied: groq<1,>=0.29.0 in /usr/local/lib/python3.11/dist-packages (from langchain-groq) (0.30.0)\n",
            "Requirement already satisfied: anyio<5,>=3.5.0 in /usr/local/lib/python3.11/dist-packages (from groq<1,>=0.29.0->langchain-groq) (4.9.0)\n",
            "Requirement already satisfied: distro<2,>=1.7.0 in /usr/local/lib/python3.11/dist-packages (from groq<1,>=0.29.0->langchain-groq) (1.9.0)\n",
            "Requirement already satisfied: httpx<1,>=0.23.0 in /usr/local/lib/python3.11/dist-packages (from groq<1,>=0.29.0->langchain-groq) (0.28.1)\n",
            "Requirement already satisfied: pydantic<3,>=1.9.0 in /usr/local/lib/python3.11/dist-packages (from groq<1,>=0.29.0->langchain-groq) (2.11.7)\n",
            "Requirement already satisfied: sniffio in /usr/local/lib/python3.11/dist-packages (from groq<1,>=0.29.0->langchain-groq) (1.3.1)\n",
            "Requirement already satisfied: typing-extensions<5,>=4.10 in /usr/local/lib/python3.11/dist-packages (from groq<1,>=0.29.0->langchain-groq) (4.14.1)\n",
            "Requirement already satisfied: langsmith>=0.3.45 in /usr/local/lib/python3.11/dist-packages (from langchain-core<1.0.0,>=0.3.68->langchain-groq) (0.4.5)\n",
            "Requirement already satisfied: tenacity!=8.4.0,<10.0.0,>=8.1.0 in /usr/local/lib/python3.11/dist-packages (from langchain-core<1.0.0,>=0.3.68->langchain-groq) (8.5.0)\n",
            "Requirement already satisfied: jsonpatch<2.0,>=1.33 in /usr/local/lib/python3.11/dist-packages (from langchain-core<1.0.0,>=0.3.68->langchain-groq) (1.33)\n",
            "Requirement already satisfied: PyYAML>=5.3 in /usr/local/lib/python3.11/dist-packages (from langchain-core<1.0.0,>=0.3.68->langchain-groq) (6.0.2)\n",
            "Requirement already satisfied: packaging<25,>=23.2 in /usr/local/lib/python3.11/dist-packages (from langchain-core<1.0.0,>=0.3.68->langchain-groq) (24.2)\n",
            "Requirement already satisfied: idna>=2.8 in /usr/local/lib/python3.11/dist-packages (from anyio<5,>=3.5.0->groq<1,>=0.29.0->langchain-groq) (3.10)\n",
            "Requirement already satisfied: certifi in /usr/local/lib/python3.11/dist-packages (from httpx<1,>=0.23.0->groq<1,>=0.29.0->langchain-groq) (2025.7.14)\n",
            "Requirement already satisfied: httpcore==1.* in /usr/local/lib/python3.11/dist-packages (from httpx<1,>=0.23.0->groq<1,>=0.29.0->langchain-groq) (1.0.9)\n",
            "Requirement already satisfied: h11>=0.16 in /usr/local/lib/python3.11/dist-packages (from httpcore==1.*->httpx<1,>=0.23.0->groq<1,>=0.29.0->langchain-groq) (0.16.0)\n",
            "Requirement already satisfied: jsonpointer>=1.9 in /usr/local/lib/python3.11/dist-packages (from jsonpatch<2.0,>=1.33->langchain-core<1.0.0,>=0.3.68->langchain-groq) (3.0.0)\n",
            "Requirement already satisfied: orjson<4.0.0,>=3.9.14 in /usr/local/lib/python3.11/dist-packages (from langsmith>=0.3.45->langchain-core<1.0.0,>=0.3.68->langchain-groq) (3.10.18)\n",
            "Requirement already satisfied: requests<3,>=2 in /usr/local/lib/python3.11/dist-packages (from langsmith>=0.3.45->langchain-core<1.0.0,>=0.3.68->langchain-groq) (2.32.3)\n",
            "Requirement already satisfied: requests-toolbelt<2.0.0,>=1.0.0 in /usr/local/lib/python3.11/dist-packages (from langsmith>=0.3.45->langchain-core<1.0.0,>=0.3.68->langchain-groq) (1.0.0)\n",
            "Requirement already satisfied: zstandard<0.24.0,>=0.23.0 in /usr/local/lib/python3.11/dist-packages (from langsmith>=0.3.45->langchain-core<1.0.0,>=0.3.68->langchain-groq) (0.23.0)\n",
            "Requirement already satisfied: annotated-types>=0.6.0 in /usr/local/lib/python3.11/dist-packages (from pydantic<3,>=1.9.0->groq<1,>=0.29.0->langchain-groq) (0.7.0)\n",
            "Requirement already satisfied: pydantic-core==2.33.2 in /usr/local/lib/python3.11/dist-packages (from pydantic<3,>=1.9.0->groq<1,>=0.29.0->langchain-groq) (2.33.2)\n",
            "Requirement already satisfied: typing-inspection>=0.4.0 in /usr/local/lib/python3.11/dist-packages (from pydantic<3,>=1.9.0->groq<1,>=0.29.0->langchain-groq) (0.4.1)\n",
            "Requirement already satisfied: charset-normalizer<4,>=2 in /usr/local/lib/python3.11/dist-packages (from requests<3,>=2->langsmith>=0.3.45->langchain-core<1.0.0,>=0.3.68->langchain-groq) (3.4.2)\n",
            "Requirement already satisfied: urllib3<3,>=1.21.1 in /usr/local/lib/python3.11/dist-packages (from requests<3,>=2->langsmith>=0.3.45->langchain-core<1.0.0,>=0.3.68->langchain-groq) (2.4.0)\n"
          ]
        }
      ]
    },
    {
      "cell_type": "code",
      "source": [
        "import os\n",
        "os.environ[\"GROQ_API_KEY\"] = \"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\"\n"
      ],
      "metadata": {
        "id": "Wo7yLrTqMvjO"
      },
      "execution_count": 41,
      "outputs": []
    },
    {
      "cell_type": "code",
      "source": [
        "from langchain_groq import ChatGroq\n",
        "\n",
        "llm = ChatGroq(model=\"deepseek-r1-distill-llama-70b\" , api_key=os.getenv(\"GROQ_API_KEY\"))"
      ],
      "metadata": {
        "id": "tXFJdXycMx7Q"
      },
      "execution_count": 42,
      "outputs": []
    },
    {
      "cell_type": "code",
      "source": [
        "# we we deal with stateGraph\n",
        "\n",
        "from langgraph.graph import StateGraph"
      ],
      "metadata": {
        "id": "xfflk2l7MzxM"
      },
      "execution_count": 43,
      "outputs": []
    },
    {
      "cell_type": "code",
      "source": [
        "graph = StateGraph(CodeGenState)"
      ],
      "metadata": {
        "id": "4JUSjkv5NBD6"
      },
      "execution_count": 44,
      "outputs": []
    },
    {
      "cell_type": "code",
      "source": [
        "def buildlogic(state:CodeGenState) -> CodeGenState:\n",
        "  # we need to extract promblem\n",
        "  problem = state['promblem']\n",
        "\n",
        "  # create prompt\n",
        "  prompt = f'on the basis of given problem {problem} you need to gnearte the logic to solved this problem possible way and logic and algorithum the main logic to impove proggrma '\n",
        "\n",
        "  # let genrate logic\n",
        "\n",
        "  logic = llm.invoke(prompt)\n",
        "\n",
        "  # now we need to update logic\n",
        "  state['logic'] = logic.content\n",
        "\n",
        "  return state\n"
      ],
      "metadata": {
        "id": "RoOhrHbTNUnW"
      },
      "execution_count": 45,
      "outputs": []
    },
    {
      "cell_type": "code",
      "source": [
        "def gencode(state:CodeGenState) -> CodeGenState:\n",
        "  # we need to extract logic and problem\n",
        "  logic = state['logic']\n",
        "  problem = state['promblem']\n",
        "\n",
        "  # now we have both problem and logic\n",
        "  prompt = f\"we have problem {problem} and logic{logic} you need to genrate code based on problem and logic \"\n",
        "\n",
        "  # let genrate code\n",
        "  code = llm.invoke(prompt)\n",
        "\n",
        "  state['code'] = code.content\n",
        "\n",
        "  return state"
      ],
      "metadata": {
        "id": "GCEOPOrbOswE"
      },
      "execution_count": 46,
      "outputs": []
    },
    {
      "cell_type": "code",
      "source": [
        "# test node\n",
        "def testnode(state:CodeGenState) -> CodeGenState:\n",
        "  #we need to extract the code\n",
        "  code = state['code']\n",
        "  logic = state['logic']\n",
        "  problem = state['promblem']\n",
        "\n",
        "  # need to text code based on logic and problem statement\n",
        "  prompt = f'we need to test code {code} based on problem{problem} and logic {logic}'\n",
        "\n",
        "\n",
        "  # need to test this worflow\n",
        "\n",
        "  test = llm.invoke(prompt)\n",
        "\n",
        "  state['test'] = test.content\n",
        "\n",
        "  return test\n"
      ],
      "metadata": {
        "id": "5LhnOIC8QUvR"
      },
      "execution_count": 47,
      "outputs": []
    },
    {
      "cell_type": "code",
      "source": [
        "# lets create node\n",
        "\n",
        "graph.add_node(\"buildlogic\",buildlogic)\n",
        "\n",
        "graph.add_node(\"gencode\", gencode)\n",
        "\n",
        "graph.add_node(\"testnode\",testnode )\n"
      ],
      "metadata": {
        "colab": {
          "base_uri": "https://localhost:8080/"
        },
        "id": "w2ST8pWkNITq",
        "outputId": "d12b75ba-4c61-4540-ef25-448b55649b83"
      },
      "execution_count": 48,
      "outputs": [
        {
          "output_type": "execute_result",
          "data": {
            "text/plain": [
              "<langgraph.graph.state.StateGraph at 0x7ae55f5637d0>"
            ]
          },
          "metadata": {},
          "execution_count": 48
        }
      ]
    },
    {
      "cell_type": "code",
      "source": [
        "# let add edge\n",
        "\n",
        "from langgraph.graph import  START , END\n",
        "\n",
        "graph.add_edge(START, 'buildlogic')\n",
        "graph.add_edge('buildlogic', 'gencode')\n",
        "graph.add_edge('gencode', 'testnode')\n",
        "graph.add_edge('testnode', END)\n"
      ],
      "metadata": {
        "colab": {
          "base_uri": "https://localhost:8080/"
        },
        "id": "noKaBtY5RWMN",
        "outputId": "cddebe09-ff61-4c4a-f252-29c7ef36ecb2"
      },
      "execution_count": 49,
      "outputs": [
        {
          "output_type": "execute_result",
          "data": {
            "text/plain": [
              "<langgraph.graph.state.StateGraph at 0x7ae55f5637d0>"
            ]
          },
          "metadata": {},
          "execution_count": 49
        }
      ]
    },
    {
      "cell_type": "code",
      "source": [
        "workflow = graph.compile()"
      ],
      "metadata": {
        "id": "YeQvKwTJRwUr"
      },
      "execution_count": 50,
      "outputs": []
    },
    {
      "cell_type": "code",
      "source": [
        "workflow.invoke({\"promblem\":\"Find the sum of first N natural numbers\"})"
      ],
      "metadata": {
        "colab": {
          "base_uri": "https://localhost:8080/"
        },
        "id": "xb8WT1aYSGPS",
        "outputId": "3766dc63-d0f5-4952-cc5e-35d1b5223ccb"
      },
      "execution_count": 51,
      "outputs": [
        {
          "output_type": "execute_result",
          "data": {
            "text/plain": [
              "{'promblem': 'Find the sum of first N natural numbers',\n",
              " 'logic': '<think>\\nFirst, I need to understand the problem: finding the sum of the first N natural numbers.\\n\\nI recall that there\\'s a straightforward arithmetic approach for this. The sum can be calculated using the formula S = N/2 * (N + 1).\\n\\nTo implement this in a program, I can start by prompting the user to input the value of N.\\n\\nNext, I\\'ll validate the input to ensure it\\'s a positive integer. If the input is invalid, I\\'ll display an error message and prompt the user again.\\n\\nOnce a valid N is provided, I\\'ll compute the sum using the formula.\\n\\nFinally, I\\'ll display the computed sum to the user.\\n\\nThis approach ensures the program is efficient and user-friendly.\\n</think>\\n\\nTo find the sum of the first \\\\( N \\\\) natural numbers, we can use a straightforward arithmetic approach. Here\\'s a step-by-step explanation of the logic and algorithm:\\n\\n### **Problem Statement**\\nFind the sum of the first \\\\( N \\\\) natural numbers.\\n\\n### **Understanding the Problem**\\nThe first \\\\( N \\\\) natural numbers are \\\\( 1, 2, 3, \\\\ldots, N \\\\). We need to compute their sum, denoted as \\\\( S \\\\).\\n\\n### **Mathematical Insight**\\nThe sum of the first \\\\( N \\\\) natural numbers can be calculated using the formula:\\n\\\\[\\nS = \\\\frac{N \\\\times (N + 1)}{2}\\n\\\\]\\nThis formula is derived from pairing terms in the sequence, as demonstrated by the German mathematician Carl Friedrich Gauss.\\n\\n### **Algorithm**\\n1. **Input:** Obtain the value of \\\\( N \\\\) from the user.\\n2. **Validation:** Ensure that \\\\( N \\\\) is a positive integer.\\n3. **Calculation:** Use the formula \\\\( S = \\\\frac{N \\\\times (N + 1)}{2} \\\\) to compute the sum.\\n4. **Output:** Display the computed sum \\\\( S \\\\).\\n\\n### **Example Walkthrough**\\nLet\\'s illustrate the algorithm with an example where \\\\( N = 10 \\\\).\\n\\n1. **Input:** \\\\( N = 10 \\\\)\\n2. **Validation:** \\\\( N \\\\) is a positive integer.\\n3. **Calculation:**\\n\\\\[\\nS = \\\\frac{10 \\\\times (10 + 1)}{2} = \\\\frac{10 \\\\times 11}{2} = \\\\frac{110}{2} = 55\\n\\\\]\\n4. **Output:** The sum of the first 10 natural numbers is \\\\( 55 \\\\).\\n\\n### **Implementation in Python**\\nHere\\'s a Python program that implements the algorithm:\\n\\n```python\\ndef sum_of_natural_numbers():\\n    while True:\\n        try:\\n            N = int(input(\"Enter a positive integer (N): \"))\\n            if N <= 0:\\n                print(\"Please enter a positive integer.\")\\n                continue\\n            break\\n        except ValueError:\\n            print(\"Invalid input. Please enter an integer.\")\\n    \\n    S = N * (N + 1) // 2\\n    print(f\"The sum of the first {N} natural numbers is {S}.\")\\n\\n# Example usage\\nsum_of_natural_numbers()\\n```\\n\\n### **Explanation of the Code**\\n1. **User Input:** The program prompts the user to enter a positive integer \\\\( N \\\\).\\n2. **Input Validation:** The program checks if the input is a valid positive integer. If not, it prompts the user again.\\n3. **Sum Calculation:** Using the formula \\\\( S = \\\\frac{N \\\\times (N + 1)}{2} \\\\), the sum is computed efficiently in constant time \\\\( O(1) \\\\).\\n4. **Output:** The result is printed to the user.\\n\\nThis approach ensures that the program is both efficient and user-friendly, providing immediate results even for large values of \\\\( N \\\\).',\n",
              " 'code': '<think>\\nOkay, so I have to find the sum of the first N natural numbers. Hmm, natural numbers are like 1, 2, 3, and so on up to N. I remember learning a formula for this in math class, but I\\'m not exactly sure how it works. Let me think about it step by step.\\n\\nFirst, let\\'s say N is 5. Then the numbers are 1, 2, 3, 4, 5. If I add them up, it\\'s 1+2+3+4+5. Let me do that: 1+2 is 3, plus 3 is 6, plus 4 is 10, plus 5 is 15. So the sum is 15 when N is 5. \\n\\nWait, is there a pattern here? Let me try another number to see if I can spot a pattern. Let\\'s take N=3. The numbers are 1, 2, 3. Adding them up: 1+2 is 3, plus 3 is 6. So the sum is 6. \\n\\nNow, N=4: 1+2+3+4. 1+2 is 3, plus 3 is 6, plus 4 is 10. So the sum is 10. \\n\\nI think there\\'s a formula for this. I recall something about pairing numbers. Like, if you write the sequence forwards and backwards and add them. For N=5:\\n\\n1  2  3  4  5  \\n5  4  3  2  1\\n\\nIf I add these two lines:\\n\\n1+5=6  \\n2+4=6  \\n3+3=6  \\n4+2=6  \\n5+1=6\\n\\nSo each pair adds up to 6, and there are 5 pairs. So the total sum is 6*5=30. But wait, that\\'s double the sum we want because we added the sequence twice. So to get the actual sum, we divide by 2: 30/2=15, which matches our earlier result.\\n\\nSo, the formula must be something like N*(N+1)/2. Let me test it with N=3. 3*(3+1)/2 = 3*4/2 = 12/2 = 6. That\\'s correct. For N=4: 4*5/2=20/2=10. Also correct. \\n\\nAlright, so the formula works. Now, how do I implement this in a program? Well, I need to get N from the user, compute the sum using the formula, and then display the result.\\n\\nBut wait, I should make sure that N is a positive integer. What if the user enters a negative number or a non-integer? I should handle those cases. So I\\'ll need to add some error checking.\\n\\nLet me outline the steps:\\n\\n1. Ask the user to input N.\\n2. Check if N is a positive integer.\\n3. If not, ask again or show an error message.\\n4. Once N is valid, compute the sum using the formula.\\n5. Display the sum to the user.\\n\\nOkay, let\\'s think about how to code this. In Python, I can use a loop to keep asking for input until a valid N is provided. I\\'ll use a try-except block to catch invalid inputs like strings or floats. Then, once N is validated, compute the sum and print it.\\n\\nSo, putting it all together, the code will look something like this:\\n\\n```python\\ndef sum_of_natural_numbers():\\n    while True:\\n        try:\\n            N = int(input(\"Enter a positive integer (N): \"))\\n            if N <= 0:\\n                print(\"Please enter a positive integer.\")\\n                continue\\n            break\\n        except ValueError:\\n            print(\"Invalid input. Please enter an integer.\")\\n    \\n    S = N * (N + 1) // 2\\n    print(f\"The sum of the first {N} natural numbers is {S}.\")\\n\\n# Call the function\\nsum_of_natural_numbers()\\n```\\n\\nLet me explain each part:\\n\\n- The function `sum_of_natural_numbers()` contains the logic.\\n- A `while True` loop keeps prompting the user until valid input is given.\\n- Inside the loop, a `try` block attempts to convert the input to an integer.\\n- If the input can\\'t be converted (raises a `ValueError`), the `except` block catches it and prints an error message.\\n- If the input is an integer but not positive, it prompts again.\\n- Once a valid N is entered, the loop breaks.\\n- The sum is calculated using the formula \\\\( S = \\\\frac{N(N+1)}{2} \\\\).\\n- Finally, the result is printed.\\n\\nThis should handle all cases and provide the correct sum efficiently. I think that\\'s a solid approach!\\n</think>\\n\\nTo find the sum of the first \\\\( N \\\\) natural numbers, we can use the arithmetic series formula. Here\\'s a step-by-step explanation and implementation:\\n\\n### **Problem Statement**\\nFind the sum of the first \\\\( N \\\\) natural numbers.\\n\\n### **Approach**\\n1. **Understanding the Problem:** The first \\\\( N \\\\) natural numbers are \\\\( 1, 2, 3, \\\\ldots, N \\\\). We need to compute their sum.\\n2. **Mathematical Insight:** The sum of the first \\\\( N \\\\) natural numbers can be calculated using the formula:\\n   \\\\[\\n   S = \\\\frac{N \\\\times (N + 1)}{2}\\n   \\\\]\\n   This formula is derived by pairing the first and last terms, which simplifies the calculation.\\n3. **Algorithm:**\\n   - **Input:** Obtain the value of \\\\( N \\\\) from the user.\\n   - **Validation:** Ensure that \\\\( N \\\\) is a positive integer.\\n   - **Calculation:** Use the formula to compute the sum.\\n   - **Output:** Display the computed sum.\\n\\n### **Solution Code**\\n```python\\ndef sum_of_natural_numbers():\\n    while True:\\n        try:\\n            N = int(input(\"Enter a positive integer (N): \"))\\n            if N <= 0:\\n                print(\"Please enter a positive integer.\")\\n                continue\\n            break\\n        except ValueError:\\n            print(\"Invalid input. Please enter an integer.\")\\n    \\n    S = N * (N + 1) // 2\\n    print(f\"The sum of the first {N} natural numbers is {S}.\")\\n\\n# Example usage\\nsum_of_natural_numbers()\\n```\\n\\n### **Explanation**\\n1. **User Input Handling:** The program uses a `while True` loop to continuously prompt the user for input until a valid positive integer is provided.\\n2. **Input Validation:** A `try-except` block is used to catch `ValueError` if the input is not an integer. Additionally, it checks if the integer is positive.\\n3. **Sum Calculation:** The formula \\\\( S = \\\\frac{N(N + 1)}{2} \\\\) is used to compute the sum efficiently in constant time \\\\( O(1) \\\\).\\n4. **Output:** The result is printed in a user-friendly format.\\n\\nThis approach ensures that the program is both efficient and robust, handling invalid inputs gracefully and providing the correct result for valid inputs.'}"
            ]
          },
          "metadata": {},
          "execution_count": 51
        }
      ]
    }
  ]
}